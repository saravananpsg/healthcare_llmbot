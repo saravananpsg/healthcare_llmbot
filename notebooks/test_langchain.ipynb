{
 "cells": [
  {
   "cell_type": "code",
   "execution_count": 19,
   "id": "2c96ebf9-1d67-488c-ac87-c6f59e925f87",
   "metadata": {},
   "outputs": [],
   "source": [
    "# import langchain\n",
    "import os\n",
    "import openai\n",
    "from langchain_community.document_loaders import WebBaseLoader\n",
    "from langchain_community.document_loaders import OnlinePDFLoader\n",
    "from langchain_community.document_loaders import UnstructuredURLLoader\n",
    "from langchain.text_splitter import RecursiveCharacterTextSplitter\n",
    "from langchain.embeddings.openai import OpenAIEmbeddings\n",
    "from langchain_community.vectorstores import FAISS\n",
    "\n",
    "import pandas as pd\n",
    "from dotenv import load_dotenv\n",
    "import os\n",
    "import openai\n",
    "import dotenv\n",
    "\n",
    "\n",
    "config = dotenv.dotenv_values(\".env\")\n",
    "openai.api_key = config['OPENAI_API_KEY']\n",
    "openai_api_key = config['OPENAI_API_KEY']\n",
    "\n",
    "\n",
    "load_dotenv()\n",
    "\n",
    "\n",
    "infile_path='urls_list.txt'\n",
    "\n",
    "with open(infile_path, 'r') as infile:\n",
    "    urls_data = infile.readlines()\n",
    "\n",
    "\n",
    "\n",
    "data_dict = {}\n",
    "for i, url_link in enumerate(urls_data):\n",
    "    url_link = url_link.strip()\n",
    "    if str(url_link).endswith('pdf') or str(url_link).__contains__('ch-api'):\n",
    "        loader = OnlinePDFLoader(url_link)\n",
    "        text_data = loader.load()\n",
    "        text_data[0].metadata['source'] = url_link\n",
    "        data_dict.update({\n",
    "            i: text_data\n",
    "        })\n",
    "    else:\n",
    "        loader = WebBaseLoader(url_link)\n",
    "        text_data = loader.load()\n",
    "        text_data[0].metadata['source'] = url_link\n",
    "        data_dict.update({\n",
    "            i: text_data\n",
    "        })\n",
    "\n",
    "text_splitter = RecursiveCharacterTextSplitter(chunk_size=2000, chunk_overlap=0)\n",
    "all_splits_pypdf_texts=[]\n",
    "all_splits_pypdf_texts_src=[]\n",
    "for k,v in data_dict.items():\n",
    "    text_data = data_dict[k]\n",
    "    texts = text_splitter.split_documents(text_data)\n",
    "    all_splits_pypdf_texts.extend([d.page_content for d in texts])\n",
    "    all_splits_pypdf_texts_src.extend([d.metadata['source'] for d in texts])\n",
    "\n",
    "embedding = OpenAIEmbeddings()\n",
    "vector_store = FAISS.from_texts(all_splits_pypdf_texts, embedding)\n",
    "\n",
    "embed_list = []\n",
    "for i, document in enumerate(all_splits_pypdf_texts): \n",
    "    embedding_rec = embedding.embed_documents([document])[0]\n",
    "    embed_list.append(embedding_rec)\n",
    "\n",
    "df = pd.DataFrame({\"text\": all_splits_pypdf_texts, \"embedding\": embed_list, \"src\":all_splits_pypdf_texts_src})\n",
    "df.to_csv(\"embedding.csv\")\n",
    "\n",
    "# save document chunks and embeddings\n",
    "SAVE_PATH = \"data/doc_embedding.csv\"\n",
    "df.to_csv(SAVE_PATH, index=False)"
   ]
  },
  {
   "cell_type": "code",
   "execution_count": 8,
   "id": "342db9e0-9f23-4f3b-89b7-cd54c94e36a7",
   "metadata": {},
   "outputs": [],
   "source": [
    "  \n"
   ]
  },
  {
   "cell_type": "code",
   "execution_count": null,
   "id": "c8cdafff-21ca-4281-89ba-aaae8eec9202",
   "metadata": {},
   "outputs": [],
   "source": []
  },
  {
   "cell_type": "code",
   "execution_count": 10,
   "id": "3333ff67-b7e2-4208-b3a7-1fe4a93f67e5",
   "metadata": {},
   "outputs": [],
   "source": []
  },
  {
   "cell_type": "code",
   "execution_count": null,
   "id": "15d6dbda-5e38-48d6-b2c5-c47e6bce7b8a",
   "metadata": {},
   "outputs": [],
   "source": [
    "\n",
    "\n",
    "# imports\n",
    "import ast  # for converting embeddings saved as strings back to arrays\n",
    "from openai import OpenAI # for calling the OpenAI API\n",
    "import pandas as pd  # for storing text and embeddings data\n",
    "import tiktoken  # for counting tokens\n",
    "import os # for getting API token from env variable OPENAI_API_KEY\n",
    "from scipy import spatial  # for calculating vector similarities for search\n",
    "\n",
    "# models\n",
    "EMBEDDING_MODEL = \"text-embedding-ada-002\"\n",
    "GPT_MODEL = \"gpt-3.5-turbo\"\n",
    "\n",
    "client = OpenAI(api_key=os.environ.get(\"OPENAI_API_KEY\"))"
   ]
  },
  {
   "cell_type": "code",
   "execution_count": null,
   "id": "91bc554f-076e-44c4-9f71-8875bb3a7632",
   "metadata": {},
   "outputs": [],
   "source": [
    "# search function\n",
    "def strings_ranked_by_relatedness(\n",
    "    query: str,\n",
    "    df: pd.DataFrame,\n",
    "    relatedness_fn=lambda x, y: 1 - spatial.distance.cosine(x, y),\n",
    "    top_n: int = 5\n",
    ") -> tuple[list[str], list[float]]:\n",
    "    \"\"\"Returns a list of strings and relatednesses, sorted from most related to least.\"\"\"\n",
    "    query_embedding_response = client.embeddings.create(\n",
    "        model=EMBEDDING_MODEL,\n",
    "        input=query,\n",
    "    )\n",
    "    query_embedding = query_embedding_response.data[0].embedding\n",
    "    strings_and_relatednesses = [\n",
    "        (row[\"text\"]+\"||\"+row['src'], relatedness_fn(query_embedding, row[\"embedding\"]))\n",
    "        for i, row in df.iterrows()\n",
    "    ]\n",
    "    strings_and_relatednesses.sort(key=lambda x: x[1], reverse=True)\n",
    "    strings, relatednesses = zip(*strings_and_relatednesses)\n",
    "    return strings[:top_n], relatednesses[:top_n]"
   ]
  },
  {
   "cell_type": "code",
   "execution_count": null,
   "id": "360d93c6-e913-446a-bab3-190a232c7981",
   "metadata": {},
   "outputs": [],
   "source": [
    "df"
   ]
  },
  {
   "cell_type": "code",
   "execution_count": null,
   "id": "f46beb4b-0398-4e40-8ffb-fbbb12f37ea0",
   "metadata": {},
   "outputs": [],
   "source": [
    "query_embedding_response = client.embeddings.create(\n",
    "    model=EMBEDDING_MODEL,\n",
    "    input=query,\n",
    ")\n"
   ]
  },
  {
   "cell_type": "code",
   "execution_count": null,
   "id": "6fabd787-07e5-4c34-a285-1dfc692a9241",
   "metadata": {},
   "outputs": [],
   "source": [
    "query_embedding = query_embedding_response.data[0].embedding"
   ]
  },
  {
   "cell_type": "code",
   "execution_count": null,
   "id": "6643841c-127e-4936-a5d7-0ffa43dc5d84",
   "metadata": {},
   "outputs": [],
   "source": [
    "df"
   ]
  },
  {
   "cell_type": "code",
   "execution_count": null,
   "id": "46eafc0d-d6d9-482c-960b-02167e3b74c6",
   "metadata": {},
   "outputs": [],
   "source": [
    "# examples\n",
    "strings, relatednesses = strings_ranked_by_relatedness(\"gestational diabetes\", df, top_n=2)\n",
    "for string, relatedness in zip(strings, relatednesses):\n",
    "    print(f\"{relatedness=:.3f}\")\n",
    "    display(string)"
   ]
  },
  {
   "cell_type": "code",
   "execution_count": null,
   "id": "c79f985b-7c77-417e-a0f8-af82cf47b362",
   "metadata": {},
   "outputs": [],
   "source": [
    "def num_tokens(text: str, model: str = GPT_MODEL) -> int:\n",
    "    \"\"\"Return the number of tokens in a string.\"\"\"\n",
    "    encoding = tiktoken.encoding_for_model(model)\n",
    "    return len(encoding.encode(text))\n",
    "\n",
    "\n",
    "def query_message(\n",
    "    query: str,\n",
    "    df: pd.DataFrame,\n",
    "    model: str,\n",
    "    token_budget: int\n",
    ") -> str:\n",
    "    \"\"\"Return a message for GPT, with relevant source texts pulled from a dataframe.\"\"\"\n",
    "    strings, relatednesses = strings_ranked_by_relatedness(query, df)\n",
    "    # print(strings,relatednesses)\n",
    "    introduction = \"\"\"Use the below articles on diabetes to answer the subsequent question with respect to healthcare context. \\\n",
    "    If the answer cannot be found in the articles, write a response in an emphatic and understanding tone \\\n",
    "    For example: \"I couldn't find an exact match for your query. Could you rephrase the questions related to diabetes ?\" \"\"\"\n",
    "    \n",
    "    question = f\"\\n\\nQuestion: {query}\"\n",
    "    message = introduction\n",
    "    for string in strings:\n",
    "        next_article = f'\\n\\nNext article:\\n\"\"\"\\n{string}\\n\"\"\"'\n",
    "        if (\n",
    "            num_tokens(message + next_article + question, model=model)\n",
    "            > token_budget\n",
    "        ):\n",
    "            break\n",
    "        else:\n",
    "            message += next_article\n",
    "    return message + question, (strings,relatednesses)\n",
    "\n",
    "\n",
    "def ask(\n",
    "    query: str,\n",
    "    df: pd.DataFrame = df,\n",
    "    model: str = GPT_MODEL,\n",
    "    token_budget: int = 4096 - 500,\n",
    "    print_message: bool = False,\n",
    ") -> str:\n",
    "    \"\"\"Answers a query using GPT and a dataframe of relevant texts and embeddings.\"\"\"\n",
    "    message, (strings,relatednesses) = query_message(query, df, model=model, token_budget=token_budget)\n",
    "    if print_message:\n",
    "        print(message)\n",
    "    messages = [\n",
    "        {\"role\": \"system\", \"content\": \"You answer questions about the diabetes.\"},\n",
    "        {\"role\": \"user\", \"content\": message},\n",
    "    ]\n",
    "    response = client.chat.completions.create(\n",
    "        model=model,\n",
    "        messages=messages,\n",
    "        temperature=0\n",
    "    )\n",
    "    response_message = response.choices[0].message.content\n",
    "    return response_message ,(strings,relatednesses)\n",
    "\n"
   ]
  },
  {
   "cell_type": "code",
   "execution_count": null,
   "id": "3e19d11a-37c3-49c8-84ef-e8768b1106e1",
   "metadata": {},
   "outputs": [],
   "source": []
  },
  {
   "cell_type": "code",
   "execution_count": null,
   "id": "12f77c74-5192-499d-90de-a230f95be7de",
   "metadata": {},
   "outputs": [],
   "source": [
    "ans = ask(\"What is gestational diabetes and how is it diagnosed?\")\n",
    "print(ans[0])"
   ]
  },
  {
   "cell_type": "code",
   "execution_count": null,
   "id": "86da3504-47f5-457f-afe2-2a107388f48c",
   "metadata": {},
   "outputs": [],
   "source": [
    "print(ans[1][0][1], ans[1][1][1])"
   ]
  },
  {
   "cell_type": "code",
   "execution_count": null,
   "id": "499db079-85e3-4683-a5fd-b605e717b283",
   "metadata": {},
   "outputs": [],
   "source": [
    "ans = ask(\"What are some healthy eating tips for people with diabetes?\")\n",
    "# print(ans)\n",
    "ans[0]"
   ]
  },
  {
   "cell_type": "code",
   "execution_count": null,
   "id": "9aeb58d1-24f4-418e-9811-055107b18590",
   "metadata": {},
   "outputs": [],
   "source": [
    "print(ans[1][0][1], ans[1][1][1])"
   ]
  },
  {
   "cell_type": "code",
   "execution_count": null,
   "id": "9f95a996-5ffa-41dd-96af-89e8c2e68898",
   "metadata": {},
   "outputs": [],
   "source": [
    "ans = ask(\"How can my outpatient bill for diabetes be covered? \")\n",
    "print(ans[0])"
   ]
  },
  {
   "cell_type": "code",
   "execution_count": null,
   "id": "d749bbba-03d4-4251-8fe0-f65e9ff6ded0",
   "metadata": {},
   "outputs": [],
   "source": [
    "print(ans[1][0][1], ans[1][1][1])"
   ]
  },
  {
   "cell_type": "code",
   "execution_count": null,
   "id": "a6d77241-343b-40a9-b207-b6f734db3056",
   "metadata": {},
   "outputs": [],
   "source": [
    "ans = ask(\"what is the blood sugar level for senior citizens having diabetic condition ?\")\n",
    "print(ans[0])"
   ]
  },
  {
   "cell_type": "code",
   "execution_count": null,
   "id": "36ea64e9-f81f-4590-a361-ef055d1ad9f9",
   "metadata": {},
   "outputs": [],
   "source": [
    "print(ans[1][0][1], ans[1][1][1])"
   ]
  },
  {
   "cell_type": "code",
   "execution_count": null,
   "id": "1a6d5842-bb78-4355-91c5-ee55df3f5b18",
   "metadata": {},
   "outputs": [],
   "source": [
    "from langchain.llms import OpenAI\n",
    "from langchain.chains import LLMChain\n",
    "from langchain.prompts import PromptTemplate\n",
    "from langchain.chains import SimpleSequentialChain\n",
    "openai_api_key = os.environ[\"OPENAI_API_KEY\"]\n",
    "llm = OpenAI(temperature=1, openai_api_key=openai_api_key)\n"
   ]
  },
  {
   "cell_type": "code",
   "execution_count": null,
   "id": "364b3798-dec2-4cb3-97c2-d4f4dfc73c8e",
   "metadata": {},
   "outputs": [],
   "source": [
    "template = \"\"\"\n",
    "This is conversation with a human. Answer the questions you get based on the knowledge you have.\n",
    "If you don't know the answer, just say that you don't, don't try to make up an answer.\n",
    "Chat History:\n",
    "{chat_history}\n",
    "Follow Up Input: {question}\n",
    "\"\"\"\n",
    "prompt_template = PromptTemplate(input_variables=[\"question\"], template=template)\n",
    "\n",
    "# Holds my 'location' chain\n",
    "location_chain = LLMChain(llm=llm, prompt=prompt_template)"
   ]
  },
  {
   "cell_type": "code",
   "execution_count": null,
   "id": "f5a45c21-e1ba-478a-830e-2e1cb717d05c",
   "metadata": {},
   "outputs": [],
   "source": [
    "relevant_docs = knowledge_base.similarity_search(\"what is gestation diabetes ?\", k=5)\n",
    "# print(relevant_docs[2].page_content)"
   ]
  },
  {
   "cell_type": "code",
   "execution_count": 29,
   "id": "e62edb01-440c-44c5-98e1-a2915528be0e",
   "metadata": {},
   "outputs": [
    {
     "name": "stdout",
     "output_type": "stream",
     "text": [
      "[{'question': 'What is gestational diabetes and how is it diagnosed?', 'answer': 'Gestational diabetes is a type of diabetes that develops during pregnancy and usually goes away after delivery. It is diagnosed using a 3-point 75 g oral glucose tolerance test (OGTT) at 24 to 28 weeks of gestation, unless the woman has already been diagnosed with diabetes or pre-diabetes. It is important to also screen for pre-existing diabetes in the first trimester and after delivery, as women with a history of GDM are at increased risk of developing type 2 diabetes later on in life.', 'result': ' Gestational diabetes is diabetes that is diagnosed during pregnancy, usually in the second or third trimester. It is characterized by high blood sugar levels that may be caused by decreased insulin sensitivity or underlying beta-cell dysfunction. Gestational diabetes is usually identified through a 3-point 75 g oral glucose tolerance test (OGTT) at 24 to 28 weeks of gestation, unless the woman has already been diagnosed with diabetes or pre-diabetes. It is important to regularly monitor and manage gestational diabetes, as it can increase the risk of complications for both the mother and baby.'}, {'question': 'What are some healthy eating tips for people with diabetes?', 'answer': 'Some healthy eating tips for people with diabetes include:\\n\\n1. Focus on a balanced diet that includes carbohydrates, protein, and fats, with an emphasis on managing carbohydrate intake to control blood sugar levels.\\n2. Choose healthier cooking methods like steaming, baking, boiling, or grilling to prepare meals.\\n3. Opt for whole grains over refined grains, such as replacing white rice with brown rice.\\n4. Select lean meats and remove visible fats before cooking to reduce saturated fat intake.\\n5. Use natural seasonings like herbs and spices instead of excessive salt.\\n6. Incorporate vegetables and fruits as the main components of your meals, making up at least 50% of your plate.\\n7. Stay hydrated with water as your primary drink choice and avoid sugary beverages.\\n8. Plan meals ahead, make a shopping list, and opt for healthier products during festivals and celebrations to maintain healthy eating habits.\\n9. Communicate your boundaries politely when faced with peer pressure to indulge in unhealthy foods during social gatherings.\\n\\nRemember, personalized nutritional advice from a healthcare professional, such as a dietitian, can further enhance your diabetes management through tailored dietary recommendations.', 'result': '\\n1. Choose carbohydrates wisely - opt for complex carbohydrates that are high in fiber like whole grains, fruits, and vegetables.\\n2. Incorporate lean protein into your meals - this can help with weight control and keeping blood sugar levels stable.\\n3. Limit unhealthy fats - choose unsaturated fats like olive oil and avocados instead of saturated and trans fats.\\n4. Fill half of your plate with fruits and vegetables - make these foods the main part of your meal.\\n5. Use healthier cooking methods - opt for methods like steaming, baking, or grilling instead of frying.\\n6. Watch your portions - portion control is important in managing blood sugar levels and maintaining a healthy weight.\\n7. Choose water as your main drink - avoid sugary drinks and opt for water or unsweetened tea or coffee.\\n8. Discuss changes in your diet with your healthcare team - if you are planning to make significant changes in your diet, consult with your healthcare team to adjust your medication accordingly.'}, {'question': 'How can my outpatient bill for diabetes be covered?', 'answer': 'Your outpatient bill for diabetes can be covered through various means, including government subsidies, employee benefits/private medical insurance, and the use of MediSave through the Chronic Disease Management Programme (CDMP). The bill can be further offset with government subsidies available at public specialist outpatient clinics, polyclinics, and through schemes like the Community Health Assist Scheme (CHAS), Pioneer Generation (PG), and Merdeka Generation (MG) outpatient subsidies. Additionally, patients can tap on accounts of immediate family members for MediSave, and those aged 60 and above can use MediSave for the 15% co-payment under CDMP.', 'result': ' Your outpatient bill for diabetes can be covered by various means, such as government subsidies, employee benefits/private medical insurance, or using your MediSave through the Chronic Disease Management Programme (CDMP). After deducting these options, you may still need to cover the remaining bill with out-of-pocket payment. It is important to discuss and plan with your healthcare team to determine the best course of action for managing your diabetes and how to cover the associated costs.'}]\n",
      "[{'results': ' CORRECT'}, {'results': ' CORRECT'}, {'results': ' CORRECT'}]\n"
     ]
    }
   ],
   "source": [
    "from langchain.llms import OpenAI\n",
    "from langchain.chains import LLMChain\n",
    "from langchain.prompts import PromptTemplate\n",
    "from langchain.chains import SimpleSequentialChain\n",
    "# Eval!\n",
    "from langchain.evaluation.qa import QAEvalChain\n",
    "from langchain.chains import RetrievalQA\n",
    "\n",
    "openai_api_key = os.environ[\"OPENAI_API_KEY\"]\n",
    "llm = OpenAI(temperature=1, openai_api_key=openai_api_key)\n",
    "\n",
    "\n",
    "qa = RetrievalQA.from_chain_type(llm=llm, \n",
    "                                 chain_type=\"stuff\", \n",
    "                                 retriever=vector_store.as_retriever())\n",
    "\n",
    "\n",
    "\n",
    "ground_truth_question_answers = [\n",
    "    {'question': \"What is gestational diabetes and how is it diagnosed?\",\n",
    "     'answer': 'Gestational diabetes is a type of diabetes that develops during pregnancy and usually goes away after delivery. It is diagnosed using a 3-point 75 g oral glucose tolerance test (OGTT) at 24 to 28 weeks of gestation, unless the woman has already been diagnosed with diabetes or pre-diabetes. It is important to also screen for pre-existing diabetes in the first trimester and after delivery, as women with a history of GDM are at increased risk of developing type 2 diabetes later on in life.'\n",
    "    },\n",
    "    {\n",
    "        'question': \"What are some healthy eating tips for people with diabetes?\",\n",
    "        'answer':\"Some healthy eating tips for people with diabetes include:\\n\\n1. Focus on a balanced diet that includes carbohydrates, protein, and fats, with an emphasis on managing carbohydrate intake to control blood sugar levels.\\n2. Choose healthier cooking methods like steaming, baking, boiling, or grilling to prepare meals.\\n3. Opt for whole grains over refined grains, such as replacing white rice with brown rice.\\n4. Select lean meats and remove visible fats before cooking to reduce saturated fat intake.\\n5. Use natural seasonings like herbs and spices instead of excessive salt.\\n6. Incorporate vegetables and fruits as the main components of your meals, making up at least 50% of your plate.\\n7. Stay hydrated with water as your primary drink choice and avoid sugary beverages.\\n8. Plan meals ahead, make a shopping list, and opt for healthier products during festivals and celebrations to maintain healthy eating habits.\\n9. Communicate your boundaries politely when faced with peer pressure to indulge in unhealthy foods during social gatherings.\\n\\nRemember, personalized nutritional advice from a healthcare professional, such as a dietitian, can further enhance your diabetes management through tailored dietary recommendations.\" \n",
    "    },\n",
    "    {\n",
    "    'question': \"How can my outpatient bill for diabetes be covered?\",\n",
    "    'answer': \"Your outpatient bill for diabetes can be covered through various means, including government subsidies, employee benefits/private medical insurance, and the use of MediSave through the Chronic Disease Management Programme (CDMP). The bill can be further offset with government subsidies available at public specialist outpatient clinics, polyclinics, and through schemes like the Community Health Assist Scheme (CHAS), Pioneer Generation (PG), and Merdeka Generation (MG) outpatient subsidies. Additionally, patients can tap on accounts of immediate family members for MediSave, and those aged 60 and above can use MediSave for the 15% co-payment under CDMP.\"\n",
    "    }\n",
    "]\n",
    "\n",
    "    \n",
    "chain = RetrievalQA.from_chain_type(llm=llm, \n",
    "                                    chain_type=\"stuff\", \n",
    "                                    retriever=vector_store.as_retriever(), \n",
    "                                    input_key=\"question\")\n",
    "\n",
    "predictions = chain.apply(ground_truth_question_answers)\n",
    "print(predictions)\n",
    "# Start your eval chain\n",
    "eval_chain = QAEvalChain.from_llm(llm)\n",
    "eval_outputs = eval_chain.evaluate(ground_truth_question_answers,\n",
    "                                     predictions,\n",
    "                                     question_key=\"question\",\n",
    "                                     prediction_key=\"result\",\n",
    "                                     answer_key='answer')\n",
    "print(eval_outputs)\n",
    "\n"
   ]
  }
 ],
 "metadata": {
  "kernelspec": {
   "display_name": "Python 3 (ipykernel)",
   "language": "python",
   "name": "python3"
  },
  "language_info": {
   "codemirror_mode": {
    "name": "ipython",
    "version": 3
   },
   "file_extension": ".py",
   "mimetype": "text/x-python",
   "name": "python",
   "nbconvert_exporter": "python",
   "pygments_lexer": "ipython3",
   "version": "3.11.8"
  }
 },
 "nbformat": 4,
 "nbformat_minor": 5
}
