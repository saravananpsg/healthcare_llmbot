{
 "cells": [
  {
   "cell_type": "code",
   "execution_count": 20,
   "id": "cc610653-9327-4ba2-a677-abaa4622d24b",
   "metadata": {},
   "outputs": [
    {
     "name": "stdout",
     "output_type": "stream",
     "text": [
      "dict_keys(['answer', 'source_docs'])\n",
      "dict_keys(['answer', 'source_docs'])\n",
      "dict_keys(['answer', 'source_docs'])\n"
     ]
    }
   ],
   "source": [
    "import pandas as pd\n",
    "import os\n",
    "import json\n",
    "\n",
    "files = os.listdir('../results/')\n",
    "\n",
    "def readjson(in_file):\n",
    "    with open(in_file, \"r\") as read_file:\n",
    "        data = json.load(read_file)\n",
    "    return data\n",
    "    \n",
    "result_files = [f for f in files if f.startswith('gpt')]\n",
    "df_list = []\n",
    "for f in result_files:\n",
    "    data = readjson(os.path.join('../results/', f))\n",
    "    df = pd.DataFrame(data[\"source_docs\"])\n",
    "    df['answers]\n",
    "    df_list.append(df)"
   ]
  },
  {
   "cell_type": "code",
   "execution_count": 18,
   "id": "476731a2-71ff-4f53-ad74-497811ac5446",
   "metadata": {},
   "outputs": [
    {
     "data": {
      "text/html": [
       "<div>\n",
       "<style scoped>\n",
       "    .dataframe tbody tr th:only-of-type {\n",
       "        vertical-align: middle;\n",
       "    }\n",
       "\n",
       "    .dataframe tbody tr th {\n",
       "        vertical-align: top;\n",
       "    }\n",
       "\n",
       "    .dataframe thead th {\n",
       "        text-align: right;\n",
       "    }\n",
       "</style>\n",
       "<table border=\"1\" class=\"dataframe\">\n",
       "  <thead>\n",
       "    <tr style=\"text-align: right;\">\n",
       "      <th></th>\n",
       "      <th>source_doc</th>\n",
       "      <th>source</th>\n",
       "      <th>relatednesses_score</th>\n",
       "    </tr>\n",
       "  </thead>\n",
       "  <tbody>\n",
       "    <tr>\n",
       "      <th>0</th>\n",
       "      <td>BE HEALTHY\\n\\nHealthy Eating\\n\\n1\\n\\nHealthy E...</td>\n",
       "      <td>https://ch-api.healthhub.sg/api/public/content...</td>\n",
       "      <td>0.894189</td>\n",
       "    </tr>\n",
       "    <tr>\n",
       "      <th>1</th>\n",
       "      <td>If your schedule does not allow you to take re...</td>\n",
       "      <td>https://ch-api.healthhub.sg/api/public/content...</td>\n",
       "      <td>0.885588</td>\n",
       "    </tr>\n",
       "    <tr>\n",
       "      <th>2</th>\n",
       "      <td>Eating a healthy balanced diet [e.g., using My...</td>\n",
       "      <td>https://www.ace-hta.gov.sg/docs/default-source...</td>\n",
       "      <td>0.878501</td>\n",
       "    </tr>\n",
       "    <tr>\n",
       "      <th>0</th>\n",
       "      <td>Then, if available, further reduce your bill b...</td>\n",
       "      <td>https://ch-api.healthhub.sg/api/public/content...</td>\n",
       "      <td>0.834607</td>\n",
       "    </tr>\n",
       "    <tr>\n",
       "      <th>1</th>\n",
       "      <td>Remember that the person with diabetes is resp...</td>\n",
       "      <td>https://ch-api.healthhub.sg/api/public/content...</td>\n",
       "      <td>0.827330</td>\n",
       "    </tr>\n",
       "    <tr>\n",
       "      <th>2</th>\n",
       "      <td>Patients can tap on accounts of immediate fami...</td>\n",
       "      <td>https://ch-api.healthhub.sg/api/public/content...</td>\n",
       "      <td>0.823479</td>\n",
       "    </tr>\n",
       "    <tr>\n",
       "      <th>0</th>\n",
       "      <td>GDM, gestational diabetes mellitus; IADPSG, In...</td>\n",
       "      <td>https://www.ace-hta.gov.sg/docs/default-source...</td>\n",
       "      <td>0.861051</td>\n",
       "    </tr>\n",
       "    <tr>\n",
       "      <th>1</th>\n",
       "      <td>APPROPRIATE CARE GUIDE (ACG) www.ace-hta.gov.s...</td>\n",
       "      <td>https://www.ace-hta.gov.sg/docs/default-source...</td>\n",
       "      <td>0.860589</td>\n",
       "    </tr>\n",
       "    <tr>\n",
       "      <th>2</th>\n",
       "      <td>The prevalence of GDM in Eastern and Southeast...</td>\n",
       "      <td>https://www.ace-hta.gov.sg/docs/default-source...</td>\n",
       "      <td>0.850627</td>\n",
       "    </tr>\n",
       "  </tbody>\n",
       "</table>\n",
       "</div>"
      ],
      "text/plain": [
       "                                          source_doc  \\\n",
       "0  BE HEALTHY\\n\\nHealthy Eating\\n\\n1\\n\\nHealthy E...   \n",
       "1  If your schedule does not allow you to take re...   \n",
       "2  Eating a healthy balanced diet [e.g., using My...   \n",
       "0  Then, if available, further reduce your bill b...   \n",
       "1  Remember that the person with diabetes is resp...   \n",
       "2  Patients can tap on accounts of immediate fami...   \n",
       "0  GDM, gestational diabetes mellitus; IADPSG, In...   \n",
       "1  APPROPRIATE CARE GUIDE (ACG) www.ace-hta.gov.s...   \n",
       "2  The prevalence of GDM in Eastern and Southeast...   \n",
       "\n",
       "                                              source  relatednesses_score  \n",
       "0  https://ch-api.healthhub.sg/api/public/content...             0.894189  \n",
       "1  https://ch-api.healthhub.sg/api/public/content...             0.885588  \n",
       "2  https://www.ace-hta.gov.sg/docs/default-source...             0.878501  \n",
       "0  https://ch-api.healthhub.sg/api/public/content...             0.834607  \n",
       "1  https://ch-api.healthhub.sg/api/public/content...             0.827330  \n",
       "2  https://ch-api.healthhub.sg/api/public/content...             0.823479  \n",
       "0  https://www.ace-hta.gov.sg/docs/default-source...             0.861051  \n",
       "1  https://www.ace-hta.gov.sg/docs/default-source...             0.860589  \n",
       "2  https://www.ace-hta.gov.sg/docs/default-source...             0.850627  "
      ]
     },
     "execution_count": 18,
     "metadata": {},
     "output_type": "execute_result"
    }
   ],
   "source": [
    "pd.concat(df_list)"
   ]
  }
 ],
 "metadata": {
  "kernelspec": {
   "display_name": "Python 3 (ipykernel)",
   "language": "python",
   "name": "python3"
  },
  "language_info": {
   "codemirror_mode": {
    "name": "ipython",
    "version": 3
   },
   "file_extension": ".py",
   "mimetype": "text/x-python",
   "name": "python",
   "nbconvert_exporter": "python",
   "pygments_lexer": "ipython3",
   "version": "3.11.8"
  }
 },
 "nbformat": 4,
 "nbformat_minor": 5
}
