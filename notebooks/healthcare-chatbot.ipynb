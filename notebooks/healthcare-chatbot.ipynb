{
 "cells": [
  {
   "cell_type": "markdown",
   "id": "a9460538-fecf-4e28-96c6-9cc651aef873",
   "metadata": {},
   "source": [
    "### Retreival QA with Openai gpt3.5 w/chaining\n",
    "### Problem Statement for Generative AI  \n",
    "A local healthcare company published multiple articles containing healthcare facts, \n",
    "information, and tips. It wishes to create a conversational chatbot that can address readers’ \n",
    "concerns in natural language using information from the trusted articles and in the \n",
    "healthcare context.   \n",
    "The conversational chatbot should answer readers' queries using only the information from \n",
    "the published articles. Where appropriate, it should adopt an empathetic and understanding \n",
    "tone.  \n",
    "\n",
    "\n",
    "The pipeline will be as follows:\n",
    "   - Create a document collection\n",
    "   - Embed all documents using Embedder\n",
    "   - Fetch relevant documents for our question\n",
    "   - Run an LLM answer the question"
   ]
  },
  {
   "cell_type": "code",
   "execution_count": 1,
   "id": "97eb09e9-6381-49fb-8968-a3b805b330a0",
   "metadata": {},
   "outputs": [],
   "source": [
    "# import langchain\n",
    "import os\n",
    "import dotenv\n",
    "import pandas as pd\n",
    "import openai\n",
    "from langchain_community.document_loaders import WebBaseLoader\n",
    "from langchain_community.document_loaders import OnlinePDFLoader\n",
    "from langchain_community.document_loaders import UnstructuredURLLoader\n",
    "from langchain.text_splitter import RecursiveCharacterTextSplitter\n",
    "from langchain.embeddings.openai import OpenAIEmbeddings\n",
    "from langchain_community.vectorstores import FAISS\n",
    "from langchain.memory import ConversationBufferMemory\n",
    "\n",
    "\n",
    "# set config/parameters\n",
    "config = dotenv.dotenv_values(\"../.env\")\n",
    "openai.api_key = config['OPENAI_API_KEY']\n",
    "openai_api_key = config['OPENAI_API_KEY']"
   ]
  },
  {
   "cell_type": "markdown",
   "id": "9d7ec1dc-8ab1-4c8f-a9dc-e5ebd8adb661",
   "metadata": {},
   "source": [
    "#### 1. Read Documents, Chunking:\n",
    "\n",
    "* Using the provided urls and the Langchain's Document Loaders such as Online PDF Loaders to read the pdf url, WebBase Loaders to read the html pages, data is collected and extracted.\n",
    "* Documents are split into short, semi-self-contained sections or chunks which is later converted into embedding\n",
    "* Used LangChain's RecursiveCharacterTextSplitter to split the documents into chunks of a specified max length - 2000   "
   ]
  },
  {
   "cell_type": "code",
   "execution_count": 2,
   "id": "2c96ebf9-1d67-488c-ac87-c6f59e925f87",
   "metadata": {},
   "outputs": [],
   "source": [
    "#read input urls provided in the requirements\n",
    "infile_path='../urls_list.txt'\n",
    "with open(infile_path, 'r') as infile:\n",
    "    urls_data = infile.readlines()\n",
    "\n",
    "# load \n",
    "data_dict = {}\n",
    "for i, url_link in enumerate(urls_data):\n",
    "    url_link = url_link.strip()\n",
    "    if str(url_link).endswith('pdf') or str(url_link).__contains__('ch-api'):\n",
    "        loader = OnlinePDFLoader(url_link)\n",
    "        text_data = loader.load()\n",
    "        text_data[0].metadata['source'] = url_link\n",
    "        data_dict.update({\n",
    "            i: text_data\n",
    "        })\n",
    "    else:\n",
    "        loader = WebBaseLoader(url_link)\n",
    "        text_data = loader.load()\n",
    "        text_data[0].metadata['source'] = url_link\n",
    "        data_dict.update({\n",
    "            i: text_data\n",
    "        })\n",
    "\n",
    "text_splitter = RecursiveCharacterTextSplitter(chunk_size=2000, chunk_overlap=0)\n",
    "all_splits_pypdf_texts=[]\n",
    "all_splits_pypdf_texts_src=[]\n",
    "for k,v in data_dict.items():\n",
    "    text_data = data_dict[k]\n",
    "    texts = text_splitter.split_documents(text_data)\n",
    "    all_splits_pypdf_texts.extend([d.page_content for d in texts])\n",
    "    all_splits_pypdf_texts_src.extend([d.metadata['source'] for d in texts])\n"
   ]
  },
  {
   "cell_type": "markdown",
   "id": "a25fee99-3149-43a0-aacd-70603397db08",
   "metadata": {},
   "source": [
    "#### 2. Building Knowledge Base:\n",
    "* Creating Embeddings: Built embeddings using LangChain's OpenAI embedding for each chunk of the documents\n",
    "* Vector db - For each chunk, embedding are created and all the embedding are stored in a vector store in order to retrieve later. For this task, I have used FAISS - vector db, which is efficient for similarity search and clustering of dense vectors\n",
    "* Embeddings are saved in a CSV file (for large datasets, use a vector database)"
   ]
  },
  {
   "cell_type": "code",
   "execution_count": 3,
   "id": "ba747aba-474b-487f-af3c-f7f8b0d29daf",
   "metadata": {},
   "outputs": [
    {
     "name": "stderr",
     "output_type": "stream",
     "text": [
      "C:\\Users\\sarav\\anaconda\\envs\\qachain\\Lib\\site-packages\\langchain_core\\_api\\deprecation.py:117: LangChainDeprecationWarning: The class `langchain_community.embeddings.openai.OpenAIEmbeddings` was deprecated in langchain-community 0.0.9 and will be removed in 0.2.0. An updated version of the class exists in the langchain-openai package and should be used instead. To use it run `pip install -U langchain-openai` and import as `from langchain_openai import OpenAIEmbeddings`.\n",
      "  warn_deprecated(\n"
     ]
    }
   ],
   "source": [
    "embedding = OpenAIEmbeddings()\n",
    "vector_store = FAISS.from_texts(all_splits_pypdf_texts, embedding)\n",
    "\n",
    "embed_list = []\n",
    "for i, document in enumerate(all_splits_pypdf_texts): \n",
    "    embedding_rec = embedding.embed_documents([document])[0]\n",
    "    embed_list.append(embedding_rec)\n",
    "\n",
    "df = pd.DataFrame({\"text\": all_splits_pypdf_texts, \"embedding\": embed_list, \"src\":all_splits_pypdf_texts_src})\n",
    "\n",
    "\n",
    "# # save document chunks and embeddings\n",
    "# SAVE_PATH = \"data/doc_embedding.csv\"\n",
    "# df.to_csv(SAVE_PATH, index=False)"
   ]
  },
  {
   "cell_type": "markdown",
   "id": "eff43cd7-be84-44fa-bfb1-db2d40e8df67",
   "metadata": {},
   "source": [
    "### 3. Retrieve Related Documents:\n",
    "- Takes a user query and a dataframe with text & embedding columns\n",
    "- Embeds the user query with the OpenAI API\n",
    "- Uses distance between query embedding and text embeddings to rank the texts\n",
    "- Returns two lists:\n",
    "    - The top N texts, ranked by relevance\n",
    "    - Their corresponding relevance scores"
   ]
  },
  {
   "cell_type": "code",
   "execution_count": 4,
   "id": "15d6dbda-5e38-48d6-b2c5-c47e6bce7b8a",
   "metadata": {},
   "outputs": [],
   "source": [
    "# imports\n",
    "import ast  # for converting embeddings saved as strings back to arrays\n",
    "from openai import OpenAI # for calling the OpenAI API\n",
    "import pandas as pd  # for storing text and embeddings data\n",
    "import tiktoken  # for counting tokens\n",
    "import os # for getting API token from env variable OPENAI_API_KEY\n",
    "from scipy import spatial  # for calculating vector similarities for search\n",
    "\n",
    "# models\n",
    "EMBEDDING_MODEL = \"text-embedding-ada-002\"\n",
    "GPT_MODEL = \"gpt-3.5-turbo\"\n",
    "\n",
    "client = OpenAI(api_key=os.environ.get(\"OPENAI_API_KEY\"))"
   ]
  },
  {
   "cell_type": "code",
   "execution_count": 5,
   "id": "91bc554f-076e-44c4-9f71-8875bb3a7632",
   "metadata": {},
   "outputs": [],
   "source": [
    "# search function\n",
    "def strings_ranked_by_relatedness(\n",
    "    query: str,\n",
    "    df: pd.DataFrame,\n",
    "    relatedness_fn=lambda x, y: 1 - spatial.distance.cosine(x, y),\n",
    "    top_n: int = 5\n",
    ") -> tuple[list[str], list[float]]:\n",
    "    \"\"\"Returns a list of strings and relatednesses, sorted from most related to least.\"\"\"\n",
    "    query_embedding_response = client.embeddings.create(\n",
    "        model=EMBEDDING_MODEL,\n",
    "        input=query,\n",
    "    )\n",
    "    query_embedding = query_embedding_response.data[0].embedding\n",
    "    strings_and_relatednesses = [\n",
    "        (row[\"text\"]+\"||\"+row['src'], relatedness_fn(query_embedding, row[\"embedding\"]))\n",
    "        for i, row in df.iterrows()\n",
    "    ]\n",
    "    strings_and_relatednesses.sort(key=lambda x: x[1], reverse=True)\n",
    "    strings, relatednesses = zip(*strings_and_relatednesses)\n",
    "    return strings[:top_n], relatednesses[:top_n]"
   ]
  },
  {
   "cell_type": "markdown",
   "id": "577756ab-cf74-4989-abf2-589da73943e6",
   "metadata": {},
   "source": [
    "#### 4. Question Answering with related documents\n",
    "\n",
    "Using the retriever, we can automatically retrieve relevant knowledge and insert it into messages to GPT.\n",
    "\n",
    "Below, we define a function ask that:\n",
    "- Takes a user query\n",
    "- Searches for text relevant to the query\n",
    "- Stuffs that text into a message for GPT\n",
    "- Sends the message to GPT\n",
    "- Returns GPT's answer"
   ]
  },
  {
   "cell_type": "code",
   "execution_count": 6,
   "id": "c79f985b-7c77-417e-a0f8-af82cf47b362",
   "metadata": {},
   "outputs": [],
   "source": [
    "def num_tokens(text: str, model: str = GPT_MODEL) -> int:\n",
    "    \"\"\"Return the number of tokens in a string.\"\"\"\n",
    "    encoding = tiktoken.encoding_for_model(model)\n",
    "    return len(encoding.encode(text))\n",
    "\n",
    "\n",
    "def query_message(\n",
    "    query: str,\n",
    "    df: pd.DataFrame,\n",
    "    model: str,\n",
    "    token_budget: int\n",
    ") -> str:\n",
    "    \"\"\"Return a message for GPT, with relevant source texts pulled from a dataframe.\"\"\"\n",
    "    strings, relatednesses = strings_ranked_by_relatedness(query, df)\n",
    "    # print(strings,relatednesses)\n",
    "    introduction = \"\"\"Use the below articles on diabetes to answer the subsequent question with respect to healthcare context. \\\n",
    "    If the answer cannot be found in the articles, write a response in an emphatic and understanding tone \\\n",
    "    For example: \"I couldn't find an exact match for your query. Could you rephrase the questions related to diabetes ?\" \"\"\"\n",
    "    \n",
    "    question = f\"\\n\\nQuestion: {query}\"\n",
    "    message = introduction\n",
    "    for string in strings:\n",
    "        next_article = f'\\n\\nNext article:\\n\"\"\"\\n{string}\\n\"\"\"'\n",
    "        if (\n",
    "            num_tokens(message + next_article + question, model=model)\n",
    "            > token_budget\n",
    "        ):\n",
    "            break\n",
    "        else:\n",
    "            message += next_article\n",
    "    return message + question, (strings,relatednesses)\n",
    "    \n",
    "def ask(\n",
    "        query: str,\n",
    "        df: pd.DataFrame = df,\n",
    "        model: str = GPT_MODEL,\n",
    "        token_budget: int = 4096 - 500,\n",
    "        print_message: bool = False,\n",
    ") -> str:\n",
    "    \"\"\"Answers a query using GPT and a dataframe of relevant texts and embeddings.\"\"\"\n",
    "    message, (strings, relatednesses) = query_message(query, df,\n",
    "                                                      model=model, token_budget=token_budget)\n",
    "    if print_message:\n",
    "        print(message)\n",
    "    messages = [\n",
    "        {\"role\": \"system\", \"content\": \"You answer questions about the diabetes.\"},\n",
    "        {\"role\": \"user\", \"content\": message},\n",
    "    ]\n",
    "    response = client.chat.completions.create(\n",
    "        model=model,\n",
    "        messages=messages,\n",
    "        temperature=0\n",
    "    )\n",
    "    response_message = response.choices[0].message.content\n",
    "\n",
    "    source_list = []\n",
    "    for i, docs in enumerate(strings):\n",
    "        doc = docs.split('||')\n",
    "        source_list.append({\n",
    "            \"source_doc\": doc[0],\n",
    "            \"source\": doc[1],\n",
    "            \"relatednesses_score\": relatednesses[i]\n",
    "        })\n",
    "\n",
    "    return {\n",
    "        \"answer\": response_message,\n",
    "        \"source_docs\": source_list\n",
    "    }\n",
    "\n"
   ]
  },
  {
   "cell_type": "markdown",
   "id": "07daa9a4-254e-4f11-a4a4-0bd7ce8d170f",
   "metadata": {},
   "source": [
    "### Sample LLM responses :"
   ]
  },
  {
   "cell_type": "code",
   "execution_count": 7,
   "id": "12f77c74-5192-499d-90de-a230f95be7de",
   "metadata": {},
   "outputs": [
    {
     "name": "stdout",
     "output_type": "stream",
     "text": [
      "Answer: Gestational diabetes mellitus (GDM) is a type of diabetes that develops during pregnancy. It is characterized by high blood sugar levels that can pose risks to both the mother and the baby. GDM is diagnosed through screening tests conducted during pregnancy, typically between 24 to 28 weeks of gestation. The screening process involves a 3-point 75 g oral glucose tolerance test (OGTT) for all pregnant women, unless they have already been diagnosed with diabetes or pre-diabetes. Women at increased risk of pre-existing diabetes are also screened for diabetes during their first trimester using non-pregnancy glucose thresholds. If GDM is identified, appropriate management strategies, including lifestyle interventions and possibly insulin therapy, are recommended to improve outcomes for both the mother and the baby.\n"
     ]
    }
   ],
   "source": [
    "ans = ask(\"What is gestational diabetes and how is it diagnosed?\", df)\n",
    "print(\"Answer:\", ans['answer'])\n"
   ]
  },
  {
   "cell_type": "code",
   "execution_count": 8,
   "id": "499db079-85e3-4683-a5fd-b605e717b283",
   "metadata": {},
   "outputs": [
    {
     "name": "stdout",
     "output_type": "stream",
     "text": [
      "Answer: Some healthy eating tips for people with diabetes include:\n",
      "1. Focus on a balanced diet that includes carbohydrates, protein, and fats, with an emphasis on managing carbohydrate intake to control blood sugar levels.\n",
      "2. Choose healthier cooking methods like steaming, baking, boiling, or grilling, and use healthier ingredients.\n",
      "3. Opt for whole grains over refined grains, lean meats, and unsaturated fats while limiting saturated and trans fats.\n",
      "4. Incorporate plenty of vegetables and fruits into your meals, making them the main components of your plate.\n",
      "5. Avoid sugary drinks and opt for water as your primary beverage choice.\n",
      "6. Plan your meals ahead of time, make a shopping list, and practice moderation during festivals and celebrations to maintain a healthy eating routine.\n",
      "7. Communicate your boundaries politely when faced with peer pressure to indulge in unhealthy food choices.\n",
      "8. Stay hydrated with water and avoid excessive alcohol consumption, which can impact blood sugar levels.\n",
      "9. Consult with your healthcare team, including a dietitian, for personalized nutritional advice tailored to your condition and needs.\n"
     ]
    }
   ],
   "source": [
    "ans = ask(\"What are some healthy eating tips for people with diabetes?\")\n",
    "print(\"Answer:\", ans['answer'])\n"
   ]
  },
  {
   "cell_type": "code",
   "execution_count": 9,
   "id": "9f95a996-5ffa-41dd-96af-89e8c2e68898",
   "metadata": {},
   "outputs": [
    {
     "name": "stdout",
     "output_type": "stream",
     "text": [
      "Answer: Based on the articles provided, your outpatient bill for diabetes can be covered through various means such as government subsidies, private medical insurance, and the use of MediSave under the Chronic Disease Management Programme (CDMP). The government subsidies available at public specialist outpatient clinics and polyclinics can help offset your bill, and you can also tap into your private medical insurance benefits if applicable. Additionally, you can utilize your MediSave account to cover a portion of the bill, especially if you are ≥ 60 years old. It is important to explore these options to reduce your out-of-pocket expenses for managing diabetes.\n"
     ]
    }
   ],
   "source": [
    "ans = ask(\"How can my outpatient bill for diabetes be covered? \")\n",
    "print(\"Answer:\", ans['answer'])"
   ]
  },
  {
   "cell_type": "code",
   "execution_count": 10,
   "id": "a6d77241-343b-40a9-b207-b6f734db3056",
   "metadata": {},
   "outputs": [
    {
     "name": "stdout",
     "output_type": "stream",
     "text": [
      "Answer: For senior citizens with diabetes, the target blood sugar levels may vary. Generally, a less stringent HbA1c target of ≤8.0% may be appropriate. It is important to individualize the target HbA1c based on the overall health status of the patient, in consultation with their healthcare provider. Older patients, especially if frail, those with a long duration of the disease, short life expectancy, or advanced microvascular or macrovascular complications may benefit from a less stringent target to reduce the risk of hypoglycemia. It is crucial for senior citizens with diabetes to work closely with their healthcare team to determine the most suitable blood sugar targets for their specific health needs.\n"
     ]
    }
   ],
   "source": [
    "ans = ask(\"what is the blood sugar level for senior citizens having diabetic condition ?\")\n",
    "print(\"Answer:\", ans['answer'])\n"
   ]
  },
  {
   "cell_type": "markdown",
   "id": "00c7b600-bc6e-4da6-b87d-4d503ef10d61",
   "metadata": {},
   "source": [
    "### Evaluating LLM Performance:\n",
    "\n",
    "Assess the performance of the answers generated from the chatbot, given that there are no ground truth Q&A pairs provided to you.\n",
    "For this, I have tried to use Lngchain, QAEvalChain to evaluate the LLM Response.\n",
    "\n",
    "* Manual Annotation for 3 sample queries: For the provided sample queries, I have annotated the sample responses from the extracted docs as ground truth. QAEvalChain can asseses the predicted answers against the annotated responses and returns whether the predicted answer is valid or not.\n",
    "\n",
    "* Assesing Openai model(LLM1) generated response as ground truth and validate the response against the LLM2(RetrievalQA with chaining) response as prediction. QAEvalChain can asseses the predicted answers(LLM2) against the responses(from LLM1) and returns whether the predicted answer is valid or not."
   ]
  },
  {
   "cell_type": "code",
   "execution_count": 11,
   "id": "e62edb01-440c-44c5-98e1-a2915528be0e",
   "metadata": {},
   "outputs": [
    {
     "name": "stderr",
     "output_type": "stream",
     "text": [
      "C:\\Users\\sarav\\anaconda\\envs\\qachain\\Lib\\site-packages\\langchain_core\\_api\\deprecation.py:117: LangChainDeprecationWarning: The class `langchain_community.llms.openai.OpenAI` was deprecated in langchain-community 0.0.10 and will be removed in 0.2.0. An updated version of the class exists in the langchain-openai package and should be used instead. To use it run `pip install -U langchain-openai` and import as `from langchain_openai import OpenAI`.\n",
      "  warn_deprecated(\n",
      "C:\\Users\\sarav\\anaconda\\envs\\qachain\\Lib\\site-packages\\langchain_core\\_api\\deprecation.py:117: LangChainDeprecationWarning: The function `apply` was deprecated in LangChain 0.1.0 and will be removed in 0.2.0. Use batch instead.\n",
      "  warn_deprecated(\n"
     ]
    },
    {
     "name": "stdout",
     "output_type": "stream",
     "text": [
      "[{'question': 'What is gestational diabetes and how is it diagnosed?', 'answer': 'Gestational diabetes is a type of diabetes that develops during pregnancy and usually goes away after delivery. It is diagnosed using a 3-point 75 g oral glucose tolerance test (OGTT) at 24 to 28 weeks of gestation, unless the woman has already been diagnosed with diabetes or pre-diabetes. It is important to also screen for pre-existing diabetes in the first trimester and after delivery, as women with a history of GDM are at increased risk of developing type 2 diabetes later on in life.', 'result': ' Gestational diabetes is diabetes that is first diagnosed during pregnancy. It can be identified through screening using a 3-point 75 g oral glucose tolerance test (OGTT) at 24 to 28 weeks of gestation, unless the woman has already been diagnosed with diabetes or pre-diabetes.'}, {'question': 'What are some healthy eating tips for people with diabetes?', 'answer': 'Some healthy eating tips for people with diabetes include:\\n\\n1. Focus on a balanced diet that includes carbohydrates, protein, and fats, with an emphasis on managing carbohydrate intake to control blood sugar levels.\\n2. Choose healthier cooking methods like steaming, baking, boiling, or grilling to prepare meals.\\n3. Opt for whole grains over refined grains, such as replacing white rice with brown rice.\\n4. Select lean meats and remove visible fats before cooking to reduce saturated fat intake.\\n5. Use natural seasonings like herbs and spices instead of excessive salt.\\n6. Incorporate vegetables and fruits as the main components of your meals, making up at least 50% of your plate.\\n7. Stay hydrated with water as your primary drink choice and avoid sugary beverages.\\n8. Plan meals ahead, make a shopping list, and opt for healthier products during festivals and celebrations to maintain healthy eating habits.\\n9. Communicate your boundaries politely when faced with peer pressure to indulge in unhealthy foods during social gatherings.\\n\\nRemember, personalized nutritional advice from a healthcare professional, such as a dietitian, can further enhance your diabetes management through tailored dietary recommendations.', 'result': ' Some healthy eating tips for people with diabetes include incorporating a mix of macronutrients (carbohydrates, protein, and fat) in your meals, choosing whole grains over refined grains, opting for lean meats and healthier cooking methods, limiting intake of saturated and trans fats, and incorporating a variety of fruits and vegetables in your meals. It is also important to work with a healthcare professional, such as a dietitian, to personalize your diet according to your condition and needs. Additionally, staying hydrated with water, and limiting sugary drinks and alcohol can contribute to better diabetes control.'}, {'question': 'How can my outpatient bill for diabetes be covered?', 'answer': 'Your outpatient bill for diabetes can be covered through various means, including government subsidies, employee benefits/private medical insurance, and the use of MediSave through the Chronic Disease Management Programme (CDMP). The bill can be further offset with government subsidies available at public specialist outpatient clinics, polyclinics, and through schemes like the Community Health Assist Scheme (CHAS), Pioneer Generation (PG), and Merdeka Generation (MG) outpatient subsidies. Additionally, patients can tap on accounts of immediate family members for MediSave, and those aged 60 and above can use MediSave for the 15% co-payment under CDMP.', 'result': \" Your outpatient bill for diabetes can be covered in a few different ways. First, you can tap into government subsidies for public specialist outpatient clinics, polyclinics, and CHAS GPs. Second, you can use your own or your immediate family members' MediSave accounts to offset the bill. Third, you may be able to use your MediSave through the Chronic Disease Management Programme (CDMP) if you have one of the 23 chronic conditions listed. After deducting these sources, you may still need to cover the remaining bill with out-of-pocket payment. You can discuss your options with your healthcare team for an individualized treatment plan.\"}]\n",
      "[{'results': ' CORRECT'}, {'results': ' CORRECT'}, {'results': ' CORRECT'}]\n"
     ]
    }
   ],
   "source": [
    "from langchain.llms import OpenAI\n",
    "from langchain.chains import LLMChain\n",
    "from langchain.prompts import PromptTemplate\n",
    "from langchain.chains import SimpleSequentialChain\n",
    "# Eval!\n",
    "from langchain.evaluation.qa import QAEvalChain\n",
    "from langchain.chains import RetrievalQA\n",
    "\n",
    "openai_api_key = os.environ[\"OPENAI_API_KEY\"]\n",
    "llm = OpenAI(temperature=1, openai_api_key=openai_api_key)\n",
    "\n",
    "ground_truth_question_answers = [\n",
    "    {'question': \"What is gestational diabetes and how is it diagnosed?\",\n",
    "     'answer': 'Gestational diabetes is a type of diabetes that develops during pregnancy and usually goes away after delivery. It is diagnosed using a 3-point 75 g oral glucose tolerance test (OGTT) at 24 to 28 weeks of gestation, unless the woman has already been diagnosed with diabetes or pre-diabetes. It is important to also screen for pre-existing diabetes in the first trimester and after delivery, as women with a history of GDM are at increased risk of developing type 2 diabetes later on in life.'\n",
    "    },\n",
    "    {\n",
    "        'question': \"What are some healthy eating tips for people with diabetes?\",\n",
    "        'answer':\"Some healthy eating tips for people with diabetes include:\\n\\n1. Focus on a balanced diet that includes carbohydrates, protein, and fats, with an emphasis on managing carbohydrate intake to control blood sugar levels.\\n2. Choose healthier cooking methods like steaming, baking, boiling, or grilling to prepare meals.\\n3. Opt for whole grains over refined grains, such as replacing white rice with brown rice.\\n4. Select lean meats and remove visible fats before cooking to reduce saturated fat intake.\\n5. Use natural seasonings like herbs and spices instead of excessive salt.\\n6. Incorporate vegetables and fruits as the main components of your meals, making up at least 50% of your plate.\\n7. Stay hydrated with water as your primary drink choice and avoid sugary beverages.\\n8. Plan meals ahead, make a shopping list, and opt for healthier products during festivals and celebrations to maintain healthy eating habits.\\n9. Communicate your boundaries politely when faced with peer pressure to indulge in unhealthy foods during social gatherings.\\n\\nRemember, personalized nutritional advice from a healthcare professional, such as a dietitian, can further enhance your diabetes management through tailored dietary recommendations.\" \n",
    "    },\n",
    "    {\n",
    "    'question': \"How can my outpatient bill for diabetes be covered?\",\n",
    "    'answer': \"Your outpatient bill for diabetes can be covered through various means, including government subsidies, employee benefits/private medical insurance, and the use of MediSave through the Chronic Disease Management Programme (CDMP). The bill can be further offset with government subsidies available at public specialist outpatient clinics, polyclinics, and through schemes like the Community Health Assist Scheme (CHAS), Pioneer Generation (PG), and Merdeka Generation (MG) outpatient subsidies. Additionally, patients can tap on accounts of immediate family members for MediSave, and those aged 60 and above can use MediSave for the 15% co-payment under CDMP.\"\n",
    "    }\n",
    "]\n",
    "\n",
    "    \n",
    "chain = RetrievalQA.from_chain_type(llm=llm, \n",
    "                                    chain_type=\"stuff\", \n",
    "                                    retriever=vector_store.as_retriever(), \n",
    "                                    input_key=\"question\")\n",
    "\n",
    "predictions = chain.apply(ground_truth_question_answers)\n",
    "print(predictions)\n",
    "\n",
    "\n",
    "# Start your eval chain\n",
    "eval_chain = QAEvalChain.from_llm(llm)\n",
    "eval_outputs = eval_chain.evaluate(ground_truth_question_answers,\n",
    "                                     predictions,\n",
    "                                     question_key=\"question\",\n",
    "                                     prediction_key=\"result\",\n",
    "                                     answer_key='answer')\n",
    "print(eval_outputs)\n",
    "\n"
   ]
  },
  {
   "cell_type": "markdown",
   "id": "c1ed3a86-0e35-46c0-b0d3-77b80b5bb159",
   "metadata": {},
   "source": [
    "### LLM Convesation retrieval Chain using GPT 3.5\n",
    "\n",
    "Using ConversationalRetrievalChain, conversational agent was built with limited features.Agent can able to retrieve the top-k documents from KB and perform model prediction. The prediction are added to chat history and ConversationBufferMemory will keep track of the memory for"
   ]
  },
  {
   "cell_type": "code",
   "execution_count": 45,
   "id": "8e833b9a-93dc-4717-8693-7cff8b5539dd",
   "metadata": {},
   "outputs": [],
   "source": [
    "from langchain.chains import ConversationalRetrievalChain\n",
    "from langchain.prompts import (\n",
    "    ChatPromptTemplate,\n",
    "    HumanMessagePromptTemplate,\n",
    "    SystemMessagePromptTemplate,\n",
    "    )\n",
    "\n",
    "def get_answer(knowledge_base, df):\n",
    "\n",
    "    openai_api_key = os.environ[\"OPENAI_API_KEY\"]\n",
    "    \n",
    "    llm = OpenAI(temperature=0, openai_api_key=openai_api_key)\n",
    "\n",
    "    general_system_template = r\"\"\"Use the below articles on diabetes to answer the subsequent question with respect to healthcare context. \\\n",
    "    If the answer cannot be found in the articles, write a response in an emphatic and understanding tone \\\n",
    "    For example: \"I couldn't find an exact match for your query. Could you rephrase the questions related to diabetes ?\"\n",
    "     ----\n",
    "    {context}\n",
    "    ----\n",
    "    \"\"\"\n",
    "    general_user_template = \"Question:```{question}```\"\n",
    "    messages = [\n",
    "                SystemMessagePromptTemplate.from_template(general_system_template),\n",
    "                HumanMessagePromptTemplate.from_template(general_user_template)\n",
    "    ]\n",
    "    qa_prompt = ChatPromptTemplate.from_messages( messages )\n",
    "    \n",
    "    memory = ConversationBufferMemory(\n",
    "        memory_key=\"chat_history\",\n",
    "        return_messages=True,\n",
    "        output_key='answer'\n",
    "    )\n",
    "    \n",
    "    pdf_qa = ConversationalRetrievalChain.from_llm(\n",
    "        llm,\n",
    "        retriever=knowledge_base.as_retriever(search_kwargs={'k': 3}),\n",
    "        return_source_documents=True,\n",
    "        verbose=False,\n",
    "        memory=memory,\n",
    "    )\n",
    "    \n",
    "    yellow = \"\\033[0;33m\"\n",
    "    green = \"\\033[0;32m\"\n",
    "    white = \"\\033[0;39m\"\n",
    "\n",
    "    chat_history = []\n",
    "    print(f\"{yellow}---------------------------------------------------------------------------------\")\n",
    "    print('Welcome to the Health care chatBot. You are now ready to start interacting with your documents')\n",
    "    print('---------------------------------------------------------------------------------')\n",
    "    while True:\n",
    "        query = input(f\"{green}User Query: \")\n",
    "        if query == \"exit\" or query == \"quit\" or query == \"q\" or query == \"f\":\n",
    "            print('Exiting')\n",
    "            sys.exit()\n",
    "        if query == '':\n",
    "            continue\n",
    "        result = pdf_qa.invoke(\n",
    "            {\"question\": query, \"chat_history\": chat_history})\n",
    "\n",
    "        print(f\"{white}Answer: \" + result[\"answer\"])\n",
    "        chat_history.append((query, result[\"answer\"]))\n",
    "\n"
   ]
  },
  {
   "cell_type": "code",
   "execution_count": 46,
   "id": "f58b3439-2ab4-447e-94c8-72c9dd7cccb9",
   "metadata": {},
   "outputs": [
    {
     "name": "stdout",
     "output_type": "stream",
     "text": [
      "\u001b[0;33m---------------------------------------------------------------------------------\n",
      "Welcome to the Health care chatBot. You are now ready to start interacting with your documents\n",
      "---------------------------------------------------------------------------------\n"
     ]
    },
    {
     "name": "stdin",
     "output_type": "stream",
     "text": [
      "\u001b[0;32mUser Query:  What is gestational diabetes and how it is diagnosed ?\n"
     ]
    },
    {
     "name": "stdout",
     "output_type": "stream",
     "text": [
      "\u001b[0;39mAnswer:  Gestational diabetes is a type of diabetes that develops during pregnancy. It is diagnosed through a 3-point 75 g oral glucose tolerance test (OGTT) at 24 to 28 weeks of gestation, unless the woman has already been diagnosed with diabetes or pre-diabetes. Women with a history of gestational diabetes should also be regularly screened for diabetes every 1 to 3 years after delivery.\n"
     ]
    },
    {
     "name": "stdin",
     "output_type": "stream",
     "text": [
      "\u001b[0;32mUser Query:  What is gestational diabetes and how it is diagnosed ?\n"
     ]
    },
    {
     "name": "stdout",
     "output_type": "stream",
     "text": [
      "\u001b[0;39mAnswer:  Gestational diabetes is diagnosed by screening pregnant women for high blood sugar levels. This is typically done at 24-28 weeks of gestation using a 3-point 75 g oral glucose tolerance test (OGTT). If the results are abnormal, the woman is diagnosed with gestational diabetes. Women who are at increased risk of gestational diabetes may also be screened during their first trimester using non-pregnancy glucose thresholds. After delivery, women with gestational diabetes are re-evaluated using a 2-point 75 g OGTT to assess their glycaemic status. If the results are normal, they should be regularly screened for diabetes every 1-3 years.\n"
     ]
    },
    {
     "name": "stdin",
     "output_type": "stream",
     "text": [
      "\u001b[0;32mUser Query:  What is gestational diabetes and how it is diagnosed ?\n"
     ]
    },
    {
     "name": "stdout",
     "output_type": "stream",
     "text": [
      "\u001b[0;39mAnswer:  Gestational diabetes is diagnosed through a screening process that involves testing for pre-existing diabetes during the first trimester using non-pregnancy glucose thresholds. If the results are normal, women are re-evaluated for gestational diabetes at 24 to 28 weeks of gestation using a 3-point 75 g oral glucose tolerance test (OGTT). This test is also used to screen all women for gestational diabetes unless they have already been diagnosed with diabetes or pre-diabetes. After delivery, women with diabetes diagnosed during pregnancy should be reassessed using a 2-point 75 g OGTT between 6 to 12 weeks post-delivery. If the results are normal, they should be screened for diabetes every 1 to 3 years (ideally annually) from then on. Women with a history of gestational diabetes are also at increased risk of developing type 2 diabetes and should be regularly screened for diabetes.\n"
     ]
    },
    {
     "name": "stdin",
     "output_type": "stream",
     "text": [
      "\u001b[0;32mUser Query:  What is gestational diabetes and how it is diagnosed ?\n"
     ]
    },
    {
     "name": "stdout",
     "output_type": "stream",
     "text": [
      "\u001b[0;39mAnswer:  Gestational diabetes is typically diagnosed during the second or third trimester of pregnancy. It is usually screened for at 24 to 28 weeks of gestation using a 3-point 75 g oral glucose tolerance test (OGTT). This involves drinking a glucose solution and having blood drawn at three different time points to measure blood sugar levels. If the results are abnormal, a diagnosis of gestational diabetes is made. Women who are at increased risk of gestational diabetes may also be screened during their first trimester using non-pregnancy glucose thresholds. After delivery, women with gestational diabetes are typically re-evaluated for diabetes using a 2-point 75 g OGTT between 6 to 12 weeks postpartum. If the results are normal, they should be regularly screened for diabetes every 1 to 3 years (ideally annually) from then on.\n"
     ]
    },
    {
     "name": "stdin",
     "output_type": "stream",
     "text": [
      "\u001b[0;32mUser Query:  q\n"
     ]
    },
    {
     "name": "stdout",
     "output_type": "stream",
     "text": [
      "Exiting\n"
     ]
    },
    {
     "ename": "NameError",
     "evalue": "name 'sys' is not defined",
     "output_type": "error",
     "traceback": [
      "\u001b[1;31m---------------------------------------------------------------------------\u001b[0m",
      "\u001b[1;31mNameError\u001b[0m                                 Traceback (most recent call last)",
      "Cell \u001b[1;32mIn[46], line 1\u001b[0m\n\u001b[1;32m----> 1\u001b[0m \u001b[43mget_answer\u001b[49m\u001b[43m(\u001b[49m\u001b[43mvector_store\u001b[49m\u001b[43m,\u001b[49m\u001b[43m \u001b[49m\u001b[43mdf\u001b[49m\u001b[43m)\u001b[49m\n",
      "Cell \u001b[1;32mIn[45], line 54\u001b[0m, in \u001b[0;36mget_answer\u001b[1;34m(knowledge_base, df)\u001b[0m\n\u001b[0;32m     52\u001b[0m \u001b[38;5;28;01mif\u001b[39;00m query \u001b[38;5;241m==\u001b[39m \u001b[38;5;124m\"\u001b[39m\u001b[38;5;124mexit\u001b[39m\u001b[38;5;124m\"\u001b[39m \u001b[38;5;129;01mor\u001b[39;00m query \u001b[38;5;241m==\u001b[39m \u001b[38;5;124m\"\u001b[39m\u001b[38;5;124mquit\u001b[39m\u001b[38;5;124m\"\u001b[39m \u001b[38;5;129;01mor\u001b[39;00m query \u001b[38;5;241m==\u001b[39m \u001b[38;5;124m\"\u001b[39m\u001b[38;5;124mq\u001b[39m\u001b[38;5;124m\"\u001b[39m \u001b[38;5;129;01mor\u001b[39;00m query \u001b[38;5;241m==\u001b[39m \u001b[38;5;124m\"\u001b[39m\u001b[38;5;124mf\u001b[39m\u001b[38;5;124m\"\u001b[39m:\n\u001b[0;32m     53\u001b[0m     \u001b[38;5;28mprint\u001b[39m(\u001b[38;5;124m'\u001b[39m\u001b[38;5;124mExiting\u001b[39m\u001b[38;5;124m'\u001b[39m)\n\u001b[1;32m---> 54\u001b[0m     \u001b[43msys\u001b[49m\u001b[38;5;241m.\u001b[39mexit()\n\u001b[0;32m     55\u001b[0m \u001b[38;5;28;01mif\u001b[39;00m query \u001b[38;5;241m==\u001b[39m \u001b[38;5;124m'\u001b[39m\u001b[38;5;124m'\u001b[39m:\n\u001b[0;32m     56\u001b[0m     \u001b[38;5;28;01mcontinue\u001b[39;00m\n",
      "\u001b[1;31mNameError\u001b[0m: name 'sys' is not defined"
     ]
    }
   ],
   "source": [
    "get_answer(vector_store, df)"
   ]
  }
 ],
 "metadata": {
  "kernelspec": {
   "display_name": "Python 3 (ipykernel)",
   "language": "python",
   "name": "python3"
  },
  "language_info": {
   "codemirror_mode": {
    "name": "ipython",
    "version": 3
   },
   "file_extension": ".py",
   "mimetype": "text/x-python",
   "name": "python",
   "nbconvert_exporter": "python",
   "pygments_lexer": "ipython3",
   "version": "3.11.8"
  }
 },
 "nbformat": 4,
 "nbformat_minor": 5
}
